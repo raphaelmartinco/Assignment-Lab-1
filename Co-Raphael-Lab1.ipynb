{
 "cells": [
  {
   "cell_type": "markdown",
   "id": "757fb7da",
   "metadata": {},
   "source": [
    "ID Number: 205833\n",
    "\n",
    "Surname: Co\n",
    "\n",
    "Year and Course: 2 BS ITE"
   ]
  },
  {
   "cell_type": "markdown",
   "id": "da19afcb",
   "metadata": {},
   "source": [
    "## Currency Converter"
   ]
  },
  {
   "cell_type": "code",
   "execution_count": 3,
   "id": "4f980474",
   "metadata": {
    "scrolled": true
   },
   "outputs": [],
   "source": [
    "def dollars_to_pesos(currencyconverter):\n",
    "    dollars = float(input(\"Enter the amount in US Dollars: \"))\n",
    "    pesos = dollars * 50\n",
    "    final = float(dollars), \"US dollar(s)\", \"=\", pesos, \"Philippine Pesos\"\n",
    "    \n",
    "    return final\n",
    "    "
   ]
  },
  {
   "cell_type": "code",
   "execution_count": 5,
   "id": "26980f72",
   "metadata": {
    "scrolled": true
   },
   "outputs": [
    {
     "name": "stdout",
     "output_type": "stream",
     "text": [
      "Enter the amount in US Dollars: 1\n"
     ]
    },
    {
     "data": {
      "text/plain": [
       "(1.0, 'US dollar(s)', '=', 50.0, 'Philippine Pesos')"
      ]
     },
     "execution_count": 5,
     "metadata": {},
     "output_type": "execute_result"
    }
   ],
   "source": [
    "dollars_to_pesos(1)"
   ]
  },
  {
   "cell_type": "markdown",
   "id": "ed6ba610",
   "metadata": {},
   "source": [
    "## Problem 2 Numerical Operations"
   ]
  },
  {
   "cell_type": "code",
   "execution_count": 6,
   "id": "4474e817",
   "metadata": {
    "scrolled": false
   },
   "outputs": [],
   "source": [
    "def perform_operations(name):\n",
    "    x = float(input('value of X: '))\n",
    "    y = float(input('value of Y: '))\n",
    "    add = int(x+y)\n",
    "    sub = int(x-y)\n",
    "    mul = int(x*y)\n",
    "    div = int(x/y)\n",
    "    flo = int(x//y)\n",
    "    mod = int(x%y)\n",
    "\n",
    "    return add, sub, mul, div, flo, mod\n",
    "    "
   ]
  },
  {
   "cell_type": "code",
   "execution_count": 7,
   "id": "a15a8a6e",
   "metadata": {
    "scrolled": true
   },
   "outputs": [
    {
     "name": "stdout",
     "output_type": "stream",
     "text": [
      "value of X: 1\n",
      "value of Y: 1\n"
     ]
    },
    {
     "data": {
      "text/plain": [
       "(2, 0, 1, 1, 1, 0)"
      ]
     },
     "execution_count": 7,
     "metadata": {},
     "output_type": "execute_result"
    }
   ],
   "source": [
    "perform_operations(1)\n"
   ]
  },
  {
   "cell_type": "markdown",
   "id": "f95a3107",
   "metadata": {},
   "source": [
    "## Problem 3 BMI Calculator"
   ]
  },
  {
   "cell_type": "code",
   "execution_count": 22,
   "id": "8d616175",
   "metadata": {},
   "outputs": [],
   "source": [
    "def BMI(BMI):\n",
    "    kg = int(input('weight in kg = '))\n",
    "    m = int(input('height in cm = '))\n",
    "    bmi = float(kg/(m ** 2)*10000)\n",
    "    \n",
    "    print(\"kg = \", kg ,\",\" , ' cm = ' , m , sep=\"\" )\n",
    "    \n",
    "    \n",
    "    return bmi"
   ]
  },
  {
   "cell_type": "code",
   "execution_count": 23,
   "id": "422a5839",
   "metadata": {},
   "outputs": [
    {
     "name": "stdout",
     "output_type": "stream",
     "text": [
      "weight in kg = 65\n",
      "height in cm = 180\n",
      "kg = 65, cm = 180\n"
     ]
    },
    {
     "data": {
      "text/plain": [
       "20.06172839506173"
      ]
     },
     "execution_count": 23,
     "metadata": {},
     "output_type": "execute_result"
    }
   ],
   "source": [
    "BMI(1)\n"
   ]
  },
  {
   "cell_type": "code",
   "execution_count": null,
   "id": "7abd3ae0",
   "metadata": {},
   "outputs": [],
   "source": []
  }
 ],
 "metadata": {
  "kernelspec": {
   "display_name": "Python 3 (ipykernel)",
   "language": "python",
   "name": "python3"
  },
  "language_info": {
   "codemirror_mode": {
    "name": "ipython",
    "version": 3
   },
   "file_extension": ".py",
   "mimetype": "text/x-python",
   "name": "python",
   "nbconvert_exporter": "python",
   "pygments_lexer": "ipython3",
   "version": "3.8.8"
  }
 },
 "nbformat": 4,
 "nbformat_minor": 5
}
